{
 "cells": [
  {
   "cell_type": "code",
   "execution_count": 1,
   "metadata": {},
   "outputs": [
    {
     "name": "stderr",
     "output_type": "stream",
     "text": [
      "/home/lipeiwen.lpw/anaconda3/envs/torch200r/lib/python3.10/site-packages/tqdm/auto.py:21: TqdmWarning: IProgress not found. Please update jupyter and ipywidgets. See https://ipywidgets.readthedocs.io/en/stable/user_install.html\n",
      "  from .autonotebook import tqdm as notebook_tqdm\n",
      "No GPU automatically detected. Setting SETTINGS.GPU to 0, and SETTINGS.NJOBS to cpu_count.\n"
     ]
    }
   ],
   "source": [
    "import numpy as np\n",
    "import pandas as pd\n",
    "import networkx as nx\n",
    "# from models.dynotears_modified import from_pandas_dynamic\n",
    "from metrics import edge_errors, edge_accurate, shd\n",
    "from cdt.metrics import SID\n",
    "\n",
    "i_dataset, shd_w,sid_w,fn_w,fp_w,rev_w, shd_a,sid_a,fn_a,fp_a,rev_a, shd_wa,sid_wa,fn_wa,fp_wa,rev_wa = 0, 0, 0, 0, 0, 0, 0, 0, 0, 0, 0, 0, 0, 0, 0, 0\n",
    "results = [{'i_dataset':i_dataset,\n",
    "            'shd_w':shd_w, 'sid_w': sid_w, 'fn_w':fn_w, 'fp_w': fp_w, 'rev_w': rev_w,\n",
    "            'shd_a':shd_a, 'sid_a': sid_a, 'fn_a':fn_a, 'fp_a': fp_a, 'rev_a': rev_a,\n",
    "            'shd_wa':shd_wa, 'sid_wa': sid_wa, 'fn_wa':fn_wa, 'fp_wa': fp_wa, 'rev_wa': rev_wa}] \n",
    "results = pd.DataFrame(results)\n",
    "results.to_csv('5_p1_smp3000_dcdi_results.csv',header=True) #header=False\n"
   ]
  },
  {
   "cell_type": "code",
   "execution_count": 2,
   "metadata": {},
   "outputs": [],
   "source": [
    "def save_results(i_dataset, num_nodes, wa, true_dag):\n",
    "    # wa = np.hstack((np.vstack((w_est,a_est)),np.zeros((w_est.shape[0]+a_est.shape[0],a_est.shape[0]))))\n",
    "    # if w_est == None:\n",
    "    w_est = wa[:num_nodes,:num_nodes]\n",
    "    a_est = wa[num_nodes:,:num_nodes]\n",
    "    num_nodes = w_est.shape[0]\n",
    "    fn_w, fp_w, rev_w = edge_errors(pred=w_est, target=true_dag[:num_nodes,:num_nodes])\n",
    "    fn_a, fp_a, rev_a = edge_errors(pred=a_est, target=true_dag[num_nodes:,:num_nodes])\n",
    "    fn_wa, fp_wa, rev_wa = edge_errors(wa, true_dag)\n",
    "    shd_w = shd(pred=w_est, target=true_dag[:num_nodes,:num_nodes])\n",
    "    shd_a = shd(pred=a_est, target=true_dag[num_nodes:,:num_nodes])\n",
    "    shd_wa = shd(wa, true_dag)\n",
    "    sid_w = SID(target=true_dag[:num_nodes,:num_nodes], pred=w_est)\n",
    "    sid_a = None # SID(target=true_dag[num_nodes:,:num_nodes], pred=a_est)\n",
    "    sid_wa = SID(true_dag, wa)\n",
    "    results = [{'i_dataset':i_dataset,\n",
    "                'shd_w':shd_w, 'sid_w': sid_w, 'fn_w':fn_w, 'fp_w': fp_w, 'rev_w': rev_w,\n",
    "                'shd_a':shd_a, 'sid_a': sid_a, 'fn_a':fn_a, 'fp_a': fp_a, 'rev_a': rev_a,\n",
    "                'shd_wa':shd_wa, 'sid_wa': sid_wa, 'fn_wa':fn_wa, 'fp_wa': fp_wa, 'rev_wa': rev_wa}] \n",
    "    results = pd.DataFrame(results)\n",
    "    print(results)\n",
    "    results.to_csv('5_p1_smp3000_dcdi_results.csv', mode='a', header=False) #header=False"
   ]
  },
  {
   "cell_type": "code",
   "execution_count": 3,
   "metadata": {},
   "outputs": [
    {
     "name": "stdout",
     "output_type": "stream",
     "text": [
      "   i_dataset  shd_w sid_w  fn_w  fp_w  rev_w  shd_a sid_a  fn_a  fp_a  rev_a  \\\n",
      "0          1    1.0   6.0   0.0   0.0    1.0    2.0  None   1.0   1.0    0.0   \n",
      "\n",
      "   shd_wa sid_wa  fn_wa  fp_wa  rev_wa  \n",
      "0     3.0   10.0    1.0    1.0     1.0  \n",
      "   i_dataset  shd_w sid_w  fn_w  fp_w  rev_w  shd_a sid_a  fn_a  fp_a  rev_a  \\\n",
      "0          2    3.0   5.0   1.0   1.0    1.0    6.0  None   1.0   5.0    0.0   \n",
      "\n",
      "   shd_wa sid_wa  fn_wa  fp_wa  rev_wa  \n",
      "0     9.0   10.0    2.0    6.0     1.0  \n",
      "   i_dataset  shd_w sid_w  fn_w  fp_w  rev_w  shd_a sid_a  fn_a  fp_a  rev_a  \\\n",
      "0          3    7.0  15.0   5.0   1.0    1.0    8.0  None   6.0   2.0    0.0   \n",
      "\n",
      "   shd_wa sid_wa  fn_wa  fp_wa  rev_wa  \n",
      "0    15.0   29.0   11.0    3.0     1.0  \n",
      "   i_dataset  shd_w sid_w  fn_w  fp_w  rev_w  shd_a sid_a  fn_a  fp_a  rev_a  \\\n",
      "0          4    3.0   5.0   1.0   1.0    1.0    6.0  None   1.0   5.0    0.0   \n",
      "\n",
      "   shd_wa sid_wa  fn_wa  fp_wa  rev_wa  \n",
      "0     9.0   10.0    2.0    6.0     1.0  \n",
      "   i_dataset  shd_w sid_w  fn_w  fp_w  rev_w  shd_a sid_a  fn_a  fp_a  rev_a  \\\n",
      "0          5    2.0   0.0   0.0   2.0    0.0    6.0  None   1.0   5.0    0.0   \n",
      "\n",
      "   shd_wa sid_wa  fn_wa  fp_wa  rev_wa  \n",
      "0     8.0    3.0    1.0    7.0     0.0  \n",
      "   i_dataset  shd_w sid_w  fn_w  fp_w  rev_w  shd_a sid_a  fn_a  fp_a  rev_a  \\\n",
      "0          6    5.0  15.0   0.0   1.0    4.0    6.0  None   1.0   4.0    1.0   \n",
      "\n",
      "   shd_wa sid_wa  fn_wa  fp_wa  rev_wa  \n",
      "0    12.0   19.0    2.0    6.0     4.0  \n",
      "   i_dataset  shd_w sid_w  fn_w  fp_w  rev_w  shd_a sid_a  fn_a  fp_a  rev_a  \\\n",
      "0          7    3.0   6.0   2.0   0.0    1.0    7.0  None   0.0   7.0    0.0   \n",
      "\n",
      "   shd_wa sid_wa  fn_wa  fp_wa  rev_wa  \n",
      "0    10.0    7.0    2.0    7.0     1.0  \n",
      "   i_dataset  shd_w sid_w  fn_w  fp_w  rev_w  shd_a sid_a  fn_a  fp_a  rev_a  \\\n",
      "0          8    4.0  15.0   1.0   0.0    3.0    5.0  None   1.0   4.0    0.0   \n",
      "\n",
      "   shd_wa sid_wa  fn_wa  fp_wa  rev_wa  \n",
      "0     9.0   19.0    2.0    4.0     3.0  \n",
      "   i_dataset  shd_w sid_w  fn_w  fp_w  rev_w  shd_a sid_a  fn_a  fp_a  rev_a  \\\n",
      "0          9    3.0   7.0   3.0   0.0    0.0    7.0  None   1.0   6.0    0.0   \n",
      "\n",
      "   shd_wa sid_wa  fn_wa  fp_wa  rev_wa  \n",
      "0    10.0   11.0    4.0    6.0     0.0  \n",
      "   i_dataset  shd_w sid_w  fn_w  fp_w  rev_w  shd_a sid_a  fn_a  fp_a  rev_a  \\\n",
      "0         10    1.0   2.0   1.0   0.0    0.0    2.0  None   0.0   2.0    0.0   \n",
      "\n",
      "   shd_wa sid_wa  fn_wa  fp_wa  rev_wa  \n",
      "0     3.0    2.0    1.0    2.0     0.0  \n"
     ]
    }
   ],
   "source": [
    "for i_dataset in range(1,11):\n",
    "    dag_est = np.load(f'dataset{i_dataset}/train/DAG.npy')\n",
    "    true_dag = np.load(f'/home/lipeiwen.lpw/TECDI/data_simu/5_p1_smp3000/DAG{i_dataset}.npy')\n",
    "    # w_est = dag_est[:num_nodes,:num_nodes]\n",
    "    # a_est = dag_est[num_nodes:,:num_nodes]\n",
    "    save_results(i_dataset=i_dataset,num_nodes = 5, wa=dag_est,true_dag=true_dag)"
   ]
  },
  {
   "cell_type": "code",
   "execution_count": 4,
   "metadata": {},
   "outputs": [
    {
     "name": "stdout",
     "output_type": "stream",
     "text": [
      "shd_wa: 8.8 \\pm 3.65\n",
      "shd_w: 3.2 \\pm 1.81\n",
      "shd_a: 5.5 \\pm 2.01\n",
      "sid_wa: 12.0 \\pm 8.21\n"
     ]
    }
   ],
   "source": [
    "import statistics\n",
    "res = pd.read_csv('5_p1_smp3000_dcdi_results.csv')\n",
    "shd_wa = res['shd_wa'][1:]\n",
    "shd_w = res['shd_w'][1:]\n",
    "shd_a = res['shd_a'][1:]\n",
    "sid_wa = res['sid_wa'][1:]\n",
    "print('shd_wa:',round(np.mean(shd_wa),2),'\\pm',round(statistics.stdev(shd_wa),2))\n",
    "print('shd_w:',round(np.mean(shd_w),2),'\\pm',round(statistics.stdev(shd_w),2))\n",
    "print('shd_a:',round(np.mean(shd_a),2),'\\pm',round(statistics.stdev(shd_a),2))\n",
    "print('sid_wa:',round(np.mean(sid_wa),2),'\\pm',round(statistics.stdev(sid_wa),2))"
   ]
  }
 ],
 "metadata": {
  "kernelspec": {
   "display_name": "torch310r",
   "language": "python",
   "name": "python3"
  },
  "language_info": {
   "codemirror_mode": {
    "name": "ipython",
    "version": 3
   },
   "file_extension": ".py",
   "mimetype": "text/x-python",
   "name": "python",
   "nbconvert_exporter": "python",
   "pygments_lexer": "ipython3",
   "version": "3.10.11"
  },
  "orig_nbformat": 4
 },
 "nbformat": 4,
 "nbformat_minor": 2
}
