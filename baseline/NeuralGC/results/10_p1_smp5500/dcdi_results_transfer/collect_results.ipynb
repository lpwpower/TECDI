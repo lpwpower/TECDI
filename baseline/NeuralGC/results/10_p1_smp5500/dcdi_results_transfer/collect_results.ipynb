{
 "cells": [
  {
   "cell_type": "code",
   "execution_count": 1,
   "metadata": {},
   "outputs": [
    {
     "name": "stderr",
     "output_type": "stream",
     "text": [
      "/home/lipeiwen.lpw/anaconda3/envs/torch200r/lib/python3.10/site-packages/tqdm/auto.py:21: TqdmWarning: IProgress not found. Please update jupyter and ipywidgets. See https://ipywidgets.readthedocs.io/en/stable/user_install.html\n",
      "  from .autonotebook import tqdm as notebook_tqdm\n",
      "No GPU automatically detected. Setting SETTINGS.GPU to 0, and SETTINGS.NJOBS to cpu_count.\n"
     ]
    },
    {
     "name": "stdout",
     "output_type": "stream",
     "text": [
      "[1] \"The estimated graph is not chordal, i.e. it is not a CPDAG! We thus consider local expansions of the graph (some combinations of which may lead to cycles).\"\n",
      "[1] \"The connected component is too large (>8 nodes) in order to be extended to all DAGs in a reasonable amount of time. We thus consider local expansions of the graph (some combinations of which may lead to cycles).\"\n",
      "   i_dataset  shd_wa sid_wa  fn_wa  fp_wa  rev_wa\n",
      "0          1    24.0   76.0    0.0   21.0     3.0\n",
      "[1] \"The estimated graph is not chordal, i.e. it is not a CPDAG! We thus consider local expansions of the graph (some combinations of which may lead to cycles).\"\n",
      "   i_dataset  shd_wa sid_wa  fn_wa  fp_wa  rev_wa\n",
      "0          2    22.0   90.0    0.0   19.0     3.0\n",
      "[1] \"The estimated graph is not chordal, i.e. it is not a CPDAG! We thus consider local expansions of the graph (some combinations of which may lead to cycles).\"\n",
      "[1] \"The connected component is too large (>8 nodes) in order to be extended to all DAGs in a reasonable amount of time. We thus consider local expansions of the graph (some combinations of which may lead to cycles).\"\n",
      "   i_dataset  shd_wa sid_wa  fn_wa  fp_wa  rev_wa\n",
      "0          3    29.0   86.0    0.0   26.0     3.0\n",
      "[1] \"The estimated graph is not chordal, i.e. it is not a CPDAG! We thus consider local expansions of the graph (some combinations of which may lead to cycles).\"\n",
      "[1] \"The connected component is too large (>8 nodes) in order to be extended to all DAGs in a reasonable amount of time. We thus consider local expansions of the graph (some combinations of which may lead to cycles).\"\n",
      "   i_dataset  shd_wa sid_wa  fn_wa  fp_wa  rev_wa\n",
      "0          4    23.0   89.0    0.0   20.0     3.0\n",
      "[1] \"The estimated graph is not chordal, i.e. it is not a CPDAG! We thus consider local expansions of the graph (some combinations of which may lead to cycles).\"\n",
      "[1] \"The connected component is too large (>8 nodes) in order to be extended to all DAGs in a reasonable amount of time. We thus consider local expansions of the graph (some combinations of which may lead to cycles).\"\n",
      "   i_dataset  shd_wa sid_wa  fn_wa  fp_wa  rev_wa\n",
      "0          5    26.0   90.0    1.0   24.0     1.0\n",
      "[1] \"The estimated graph is not chordal, i.e. it is not a CPDAG! We thus consider local expansions of the graph (some combinations of which may lead to cycles).\"\n",
      "[1] \"The connected component is too large (>8 nodes) in order to be extended to all DAGs in a reasonable amount of time. We thus consider local expansions of the graph (some combinations of which may lead to cycles).\"\n",
      "   i_dataset  shd_wa sid_wa  fn_wa  fp_wa  rev_wa\n",
      "0          6    22.0   81.0    1.0   20.0     1.0\n",
      "[1] \"The estimated graph is not chordal, i.e. it is not a CPDAG! We thus consider local expansions of the graph (some combinations of which may lead to cycles).\"\n",
      "   i_dataset  shd_wa sid_wa  fn_wa  fp_wa  rev_wa\n",
      "0          7     8.0   71.0    0.0    7.0     1.0\n",
      "[1] \"The estimated graph is not chordal, i.e. it is not a CPDAG! We thus consider local expansions of the graph (some combinations of which may lead to cycles).\"\n",
      "[1] \"The connected component is too large (>8 nodes) in order to be extended to all DAGs in a reasonable amount of time. We thus consider local expansions of the graph (some combinations of which may lead to cycles).\"\n",
      "   i_dataset  shd_wa sid_wa  fn_wa  fp_wa  rev_wa\n",
      "0          8    23.0   85.0    0.0   21.0     2.0\n",
      "[1] \"The connected component is too large (>8 nodes) in order to be extended to all DAGs in a reasonable amount of time. We thus consider local expansions of the graph (some combinations of which may lead to cycles).\"\n",
      "   i_dataset  shd_wa sid_wa  fn_wa  fp_wa  rev_wa\n",
      "0          9    20.0   90.0    1.0   17.0     2.0\n",
      "[1] \"The estimated graph is not chordal, i.e. it is not a CPDAG! We thus consider local expansions of the graph (some combinations of which may lead to cycles).\"\n",
      "   i_dataset  shd_wa sid_wa  fn_wa  fp_wa  rev_wa\n",
      "0         10    18.0   83.0    2.0   14.0     2.0\n"
     ]
    }
   ],
   "source": [
    "import os\n",
    "import pandas as pd\n",
    "import torch\n",
    "import numpy as np\n",
    "from metrics import edge_errors, edge_accurate, shd\n",
    "from cdt.metrics import SID\n",
    "\n",
    "device = torch.device('cuda:0')\n",
    "time_points = 500\n",
    "num_nodes = 10\n",
    "load_path = '/home/lipeiwen.lpw/TECDI/data_simu/10_p1_smp5500/'\n",
    "\n",
    "\n",
    "\n",
    "results = [{'i_dataset':0, 'shd_wa':0, \n",
    "            'sid_wa': 0, \n",
    "            'fn_wa':0, 'fp_wa': 0, 'rev_wa': 0}] \n",
    "results = pd.DataFrame(results)\n",
    "results.to_csv('dcdi_results.csv',header=True) #header=False\n",
    "\n",
    "def save_results(i_dataset=None, wa=None, true_dag=None):\n",
    "    fn_wa, fp_wa, rev_wa = edge_errors(wa, true_dag)\n",
    "    shd_wa = shd(wa, true_dag)\n",
    "    sid_wa = SID(true_dag, wa)\n",
    "    results = [{'i_dataset':i_dataset,\n",
    "                'shd_wa':shd_wa, \n",
    "                'sid_wa': sid_wa, \n",
    "                'fn_wa':fn_wa, 'fp_wa': fp_wa, 'rev_wa': rev_wa}] \n",
    "    results = pd.DataFrame(results)\n",
    "    print(results)\n",
    "    results.to_csv('dcdi_results.csv', mode='a', header=False) #header=False\n",
    "\n",
    "\n",
    "for i_dataset in range(1,11):\n",
    "    estdag = np.load(f'/home/lipeiwen.lpw/TECDI/exp_simu/10_p1_smp5500/dataset{i_dataset}/train/DAG.npy')\n",
    "    GC_est = estdag[:num_nodes,:num_nodes] + estdag[num_nodes:,:num_nodes]\n",
    "    GC_est = np.where(GC_est==0,GC_est,1)\n",
    "    # Verify learned Granger causality\n",
    "    truedag = np.load(load_path + f'DAG{i_dataset}.npy')\n",
    "    GC = truedag[:num_nodes,:num_nodes] + truedag[num_nodes:,:num_nodes]\n",
    "    GC = np.where(GC==0,GC,1)\n",
    "\n",
    "    save_results(i_dataset=i_dataset, wa=GC_est, true_dag=GC)"
   ]
  },
  {
   "cell_type": "code",
   "execution_count": 3,
   "metadata": {},
   "outputs": [
    {
     "name": "stdout",
     "output_type": "stream",
     "text": [
      "shd_wa: 21.5 \\pm 5.62\n",
      "sid_wa: 84.1 \\pm 6.51\n"
     ]
    }
   ],
   "source": [
    "import statistics\n",
    "res = pd.read_csv('dcdi_results.csv')\n",
    "shd_wa = res['shd_wa'][1:]\n",
    "# shd_w = res['shd_w'][1:]\n",
    "# shd_a = res['shd_a'][1:]\n",
    "sid_wa = res['sid_wa'][1:]\n",
    "print('shd_wa:',round(np.mean(shd_wa),2),'\\pm',round(statistics.stdev(shd_wa),2))\n",
    "# print('shd_w:',round(np.mean(shd_w),2),'\\pm',round(statistics.stdev(shd_w),2))\n",
    "# print('shd_a:',round(np.mean(shd_a),2),'\\pm',round(statistics.stdev(shd_a),2))\n",
    "print('sid_wa:',round(np.mean(sid_wa),2),'\\pm',round(statistics.stdev(sid_wa),2))"
   ]
  }
 ],
 "metadata": {
  "kernelspec": {
   "display_name": "torch310r",
   "language": "python",
   "name": "python3"
  },
  "language_info": {
   "codemirror_mode": {
    "name": "ipython",
    "version": 3
   },
   "file_extension": ".py",
   "mimetype": "text/x-python",
   "name": "python",
   "nbconvert_exporter": "python",
   "pygments_lexer": "ipython3",
   "version": "3.10.11"
  },
  "orig_nbformat": 4
 },
 "nbformat": 4,
 "nbformat_minor": 2
}
