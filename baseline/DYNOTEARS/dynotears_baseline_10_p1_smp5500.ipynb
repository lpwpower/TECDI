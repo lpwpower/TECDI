{
 "cells": [
  {
   "cell_type": "code",
   "execution_count": 6,
   "metadata": {},
   "outputs": [],
   "source": [
    "import numpy as np\n",
    "import pandas as pd\n",
    "import networkx as nx\n",
    "from models.dynotears_modified import from_pandas_dynamic\n",
    "from metrics import edge_errors, edge_accurate, shd\n",
    "from cdt.metrics import SID\n",
    "\n",
    "i_dataset, shd_w,sid_w,fn_w,fp_w,rev_w, shd_a,sid_a,fn_a,fp_a,rev_a, shd_wa,sid_wa,fn_wa,fp_wa,rev_wa = 0, 0, 0, 0, 0, 0, 0, 0, 0, 0, 0, 0, 0, 0, 0, 0\n",
    "results = [{'i_dataset':i_dataset,\n",
    "            'shd_w':shd_w, 'sid_w': sid_w, 'fn_w':fn_w, 'fp_w': fp_w, 'rev_w': rev_w,\n",
    "            'shd_a':shd_a, 'sid_a': sid_a, 'fn_a':fn_a, 'fp_a': fp_a, 'rev_a': rev_a,\n",
    "            'shd_wa':shd_wa, 'sid_wa': sid_wa, 'fn_wa':fn_wa, 'fp_wa': fp_wa, 'rev_wa': rev_wa}] \n",
    "results = pd.DataFrame(results)\n",
    "results.to_csv('10_p1_smp5500_dynotears_results.csv',header=True) #header=False\n"
   ]
  },
  {
   "cell_type": "code",
   "execution_count": 7,
   "metadata": {},
   "outputs": [],
   "source": [
    "def save_results(i_dataset=None, w_est=None, a_est=None, true_dag=None):\n",
    "    wa = np.hstack((np.vstack((w_est,a_est)),np.zeros((w_est.shape[0]+a_est.shape[0],a_est.shape[0]))))\n",
    "    # if w_est == None:\n",
    "    #     w_est = wa[:num_nodes,:num_nodes]\n",
    "    #     a_est = wa[num_nodes:,:num_nodes]\n",
    "    num_nodes = w_est.shape[0]\n",
    "    fn_w, fp_w, rev_w = edge_errors(pred=w_est, target=true_dag[:num_nodes,:num_nodes])\n",
    "    fn_a, fp_a, rev_a = edge_errors(pred=a_est, target=true_dag[num_nodes:,:num_nodes])\n",
    "    fn_wa, fp_wa, rev_wa = edge_errors(wa, true_dag)\n",
    "    shd_w = shd(pred=w_est, target=true_dag[:num_nodes,:num_nodes])\n",
    "    shd_a = shd(pred=a_est, target=true_dag[num_nodes:,:num_nodes])\n",
    "    shd_wa = shd(wa, true_dag)\n",
    "    sid_w = SID(target=true_dag[:num_nodes,:num_nodes], pred=w_est)\n",
    "    sid_a = SID(target=true_dag[num_nodes:,:num_nodes], pred=a_est)\n",
    "    sid_wa = SID(true_dag, wa)\n",
    "    results = [{'i_dataset':i_dataset,\n",
    "                'shd_w':shd_w, 'sid_w': sid_w, 'fn_w':fn_w, 'fp_w': fp_w, 'rev_w': rev_w,\n",
    "                'shd_a':shd_a, 'sid_a': sid_a, 'fn_a':fn_a, 'fp_a': fp_a, 'rev_a': rev_a,\n",
    "                'shd_wa':shd_wa, 'sid_wa': sid_wa, 'fn_wa':fn_wa, 'fp_wa': fp_wa, 'rev_wa': rev_wa}] \n",
    "    results = pd.DataFrame(results)\n",
    "    print(results)\n",
    "    results.to_csv('10_p1_smp5500_dynotears_results.csv', mode='a', header=False) #header=False"
   ]
  },
  {
   "cell_type": "code",
   "execution_count": 8,
   "metadata": {},
   "outputs": [
    {
     "name": "stdout",
     "output_type": "stream",
     "text": [
      "   i_dataset  shd_w sid_w  fn_w  fp_w  rev_w  shd_a sid_a  fn_a  fp_a  rev_a  \\\n",
      "0          1   10.0  28.0  10.0   0.0    0.0   16.0  57.0  15.0   1.0    0.0   \n",
      "\n",
      "   shd_wa sid_wa  fn_wa  fp_wa  rev_wa  \n",
      "0    26.0   67.0   25.0    1.0     0.0  \n",
      "   i_dataset  shd_w sid_w  fn_w  fp_w  rev_w  shd_a sid_a  fn_a  fp_a  rev_a  \\\n",
      "0          2    9.0  24.0   8.0   1.0    0.0   30.0  90.0  29.0   1.0    0.0   \n",
      "\n",
      "   shd_wa sid_wa  fn_wa  fp_wa  rev_wa  \n",
      "0    39.0  132.0   37.0    2.0     0.0  \n",
      "   i_dataset  shd_w sid_w  fn_w  fp_w  rev_w  shd_a sid_a  fn_a  fp_a  rev_a  \\\n",
      "0          3   18.0  57.0  18.0   0.0    0.0   24.0  70.0  24.0   0.0    0.0   \n",
      "\n",
      "   shd_wa sid_wa  fn_wa  fp_wa  rev_wa  \n",
      "0    42.0  117.0   42.0    0.0     0.0  \n",
      "   i_dataset  shd_w sid_w  fn_w  fp_w  rev_w  shd_a sid_a  fn_a  fp_a  rev_a  \\\n",
      "0          4    8.0  16.0   7.0   0.0    1.0   32.0  88.0  30.0   2.0    0.0   \n",
      "\n",
      "   shd_wa sid_wa  fn_wa  fp_wa  rev_wa  \n",
      "0    40.0  131.0   37.0    2.0     1.0  \n",
      "   i_dataset  shd_w sid_w  fn_w  fp_w  rev_w  shd_a sid_a  fn_a  fp_a  rev_a  \\\n",
      "0          5   14.0  33.0  14.0   0.0    0.0   18.0  81.0  18.0   0.0    0.0   \n",
      "\n",
      "   shd_wa sid_wa  fn_wa  fp_wa  rev_wa  \n",
      "0    32.0  103.0   32.0    0.0     0.0  \n",
      "   i_dataset  shd_w sid_w  fn_w  fp_w  rev_w  shd_a sid_a  fn_a  fp_a  rev_a  \\\n",
      "0          6   14.0  48.0  14.0   0.0    0.0   23.0  65.0  23.0   0.0    0.0   \n",
      "\n",
      "   shd_wa sid_wa  fn_wa  fp_wa  rev_wa  \n",
      "0    37.0  134.0   37.0    0.0     0.0  \n",
      "   i_dataset  shd_w sid_w  fn_w  fp_w  rev_w  shd_a sid_a  fn_a  fp_a  rev_a  \\\n",
      "0          7    7.0  36.0   6.0   0.0    1.0   22.0  80.0  22.0   0.0    0.0   \n",
      "\n",
      "   shd_wa sid_wa  fn_wa  fp_wa  rev_wa  \n",
      "0    29.0  118.0   28.0    0.0     1.0  \n",
      "   i_dataset  shd_w sid_w  fn_w  fp_w  rev_w  shd_a sid_a  fn_a  fp_a  rev_a  \\\n",
      "0          8   14.0  53.0  14.0   0.0    0.0   24.0  60.0  24.0   0.0    0.0   \n",
      "\n",
      "   shd_wa sid_wa  fn_wa  fp_wa  rev_wa  \n",
      "0    38.0  123.0   38.0    0.0     0.0  \n",
      "   i_dataset  shd_w sid_w  fn_w  fp_w  rev_w  shd_a sid_a  fn_a  fp_a  rev_a  \\\n",
      "0          9   12.0  42.0  10.0   1.0    1.0   26.0  81.0  25.0   1.0    0.0   \n",
      "\n",
      "   shd_wa sid_wa  fn_wa  fp_wa  rev_wa  \n",
      "0    38.0  125.0   35.0    2.0     1.0  \n",
      "   i_dataset  shd_w sid_w  fn_w  fp_w  rev_w  shd_a sid_a  fn_a  fp_a  rev_a  \\\n",
      "0         10   12.0  53.0  12.0   0.0    0.0   27.0  90.0  27.0   0.0    0.0   \n",
      "\n",
      "   shd_wa sid_wa  fn_wa  fp_wa  rev_wa  \n",
      "0    39.0  136.0   39.0    0.0     0.0  \n"
     ]
    }
   ],
   "source": [
    "load_path = '/home/lipeiwen.lpw/TECDI/data_simu/10_p1_smp5500/'\n",
    "num_nodes = 10\n",
    "for i_dataset in range(1,11):\n",
    "    dag = np.load(load_path+f'DAG{i_dataset}.npy')\n",
    "    df_g = pd.DataFrame(np.load(load_path+f'data{i_dataset}.npy')).iloc[:,:num_nodes]\n",
    "    df_g = df_g.apply(lambda x : (x-np.min(x))/(np.max(x)-np.min(x)))\n",
    "    g_learnt, w_est, a_est  = from_pandas_dynamic(df_g, 1, lambda_w=.1,lambda_a=.1,w_threshold=.5)\n",
    "    w_est = np.where(w_est==0,w_est,1)\n",
    "    a_est = np.where(a_est==0,a_est,1)\n",
    "    save_results(i_dataset=i_dataset,w_est=w_est,a_est=a_est,true_dag=dag)"
   ]
  },
  {
   "cell_type": "code",
   "execution_count": 9,
   "metadata": {},
   "outputs": [
    {
     "name": "stdout",
     "output_type": "stream",
     "text": [
      "shd_wa: 36.0 \\pm 5.21\n",
      "shd_w: 11.8 \\pm 3.36\n",
      "shd_a: 24.2 \\pm 4.92\n",
      "sid_wa: 118.6 \\pm 20.66\n"
     ]
    }
   ],
   "source": [
    "import statistics\n",
    "res = pd.read_csv('10_p1_smp5500_dynotears_results.csv')\n",
    "shd_wa = res['shd_wa'][1:]\n",
    "shd_w = res['shd_w'][1:]\n",
    "shd_a = res['shd_a'][1:]\n",
    "sid_wa = res['sid_wa'][1:]\n",
    "print('shd_wa:',round(np.mean(shd_wa),2),'\\pm',round(statistics.stdev(shd_wa),2))\n",
    "print('shd_w:',round(np.mean(shd_w),2),'\\pm',round(statistics.stdev(shd_w),2))\n",
    "print('shd_a:',round(np.mean(shd_a),2),'\\pm',round(statistics.stdev(shd_a),2))\n",
    "print('sid_wa:',round(np.mean(sid_wa),2),'\\pm',round(statistics.stdev(sid_wa),2))"
   ]
  }
 ],
 "metadata": {
  "kernelspec": {
   "display_name": "torch310r",
   "language": "python",
   "name": "python3"
  },
  "language_info": {
   "codemirror_mode": {
    "name": "ipython",
    "version": 3
   },
   "file_extension": ".py",
   "mimetype": "text/x-python",
   "name": "python",
   "nbconvert_exporter": "python",
   "pygments_lexer": "ipython3",
   "version": "3.10.11"
  },
  "orig_nbformat": 4
 },
 "nbformat": 4,
 "nbformat_minor": 2
}
