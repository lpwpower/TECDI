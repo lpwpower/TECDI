{
 "cells": [
  {
   "cell_type": "code",
   "execution_count": 1,
   "metadata": {},
   "outputs": [
    {
     "name": "stderr",
     "output_type": "stream",
     "text": [
      "/home/lipeiwen.lpw/anaconda3/envs/torch200r/lib/python3.10/site-packages/tqdm/auto.py:21: TqdmWarning: IProgress not found. Please update jupyter and ipywidgets. See https://ipywidgets.readthedocs.io/en/stable/user_install.html\n",
      "  from .autonotebook import tqdm as notebook_tqdm\n",
      "No GPU automatically detected. Setting SETTINGS.GPU to 0, and SETTINGS.NJOBS to cpu_count.\n"
     ]
    }
   ],
   "source": [
    "import numpy as np\n",
    "import pandas as pd\n",
    "import networkx as nx\n",
    "from metrics import edge_errors, edge_accurate, shd\n",
    "from cdt.metrics import SID\n",
    "\n",
    "i_dataset, shd_w,sid_w,fn_w,fp_w,rev_w, shd_a,sid_a,fn_a,fp_a,rev_a, shd_wa,sid_wa,fn_wa,fp_wa,rev_wa = 0, 0, 0, 0, 0, 0, 0, 0, 0, 0, 0, 0, 0, 0, 0, 0\n",
    "results = [{'i_dataset':i_dataset,\n",
    "            'shd_w':shd_w, 'sid_w': sid_w, 'fn_w':fn_w, 'fp_w': fp_w, 'rev_w': rev_w,\n",
    "            'shd_a':shd_a, 'sid_a': sid_a, 'fn_a':fn_a, 'fp_a': fp_a, 'rev_a': rev_a,\n",
    "            'shd_wa':shd_wa, 'sid_wa': sid_wa, 'fn_wa':fn_wa, 'fp_wa': fp_wa, 'rev_wa': rev_wa}] \n",
    "results = pd.DataFrame(results)\n",
    "results.to_csv('10_p1_smp5500_pcmci_results.csv',header=True) #header=False\n"
   ]
  },
  {
   "cell_type": "code",
   "execution_count": 2,
   "metadata": {},
   "outputs": [],
   "source": [
    "def save_results(i_dataset, num_nodes, wa, true_dag):\n",
    "    # wa = np.hstack((np.vstack((w_est,a_est)),np.zeros((w_est.shape[0]+a_est.shape[0],a_est.shape[0]))))\n",
    "    # if w_est == None:\n",
    "    w_est = wa[:num_nodes,:num_nodes]\n",
    "    a_est = wa[num_nodes:,:num_nodes]\n",
    "    num_nodes = w_est.shape[0]\n",
    "    fn_w, fp_w, rev_w = edge_errors(pred=w_est, target=true_dag[:num_nodes,:num_nodes])\n",
    "    fn_a, fp_a, rev_a = edge_errors(pred=a_est, target=true_dag[num_nodes:,:num_nodes])\n",
    "    fn_wa, fp_wa, rev_wa = edge_errors(wa, true_dag)\n",
    "    shd_w = shd(pred=w_est, target=true_dag[:num_nodes,:num_nodes])\n",
    "    shd_a = shd(pred=a_est, target=true_dag[num_nodes:,:num_nodes])\n",
    "    shd_wa = shd(wa, true_dag)\n",
    "    sid_w = SID(target=true_dag[:num_nodes,:num_nodes], pred=w_est)\n",
    "    sid_a = None # SID(target=true_dag[num_nodes:,:num_nodes], pred=a_est)\n",
    "    sid_wa = SID(true_dag, wa)\n",
    "    results = [{'i_dataset':i_dataset,\n",
    "                'shd_w':shd_w, 'sid_w': sid_w, 'fn_w':fn_w, 'fp_w': fp_w, 'rev_w': rev_w,\n",
    "                'shd_a':shd_a, 'sid_a': sid_a, 'fn_a':fn_a, 'fp_a': fp_a, 'rev_a': rev_a,\n",
    "                'shd_wa':shd_wa, 'sid_wa': sid_wa, 'fn_wa':fn_wa, 'fp_wa': fp_wa, 'rev_wa': rev_wa}] \n",
    "    results = pd.DataFrame(results)\n",
    "    print(results)\n",
    "    results.to_csv('10_p1_smp5500_pcmci_results.csv', mode='a', header=False) #header=False"
   ]
  },
  {
   "cell_type": "code",
   "execution_count": 3,
   "metadata": {},
   "outputs": [
    {
     "name": "stdout",
     "output_type": "stream",
     "text": [
      "[1] \"The connected component is too large (>8 nodes) in order to be extended to all DAGs in a reasonable amount of time. We thus consider local expansions of the graph (some combinations of which may lead to cycles).\"\n",
      "[1] \"The connected component is too large (>8 nodes) in order to be extended to all DAGs in a reasonable amount of time. We thus consider local expansions of the graph (some combinations of which may lead to cycles).\"\n",
      "   i_dataset  shd_w sid_w  fn_w  fp_w  rev_w  shd_a sid_a  fn_a  fp_a  rev_a  \\\n",
      "0          1   26.0  77.0   0.0  26.0    0.0   11.0  None   0.0  11.0    0.0   \n",
      "\n",
      "   shd_wa sid_wa  fn_wa  fp_wa  rev_wa  \n",
      "0    37.0  125.0    0.0   37.0     0.0  \n",
      "   i_dataset  shd_w sid_w  fn_w  fp_w  rev_w  shd_a sid_a  fn_a  fp_a  rev_a  \\\n",
      "0          2   27.0  42.0   0.0  27.0    0.0   31.0  None   0.0  31.0    0.0   \n",
      "\n",
      "   shd_wa sid_wa  fn_wa  fp_wa  rev_wa  \n",
      "0    58.0   78.0    0.0   58.0     0.0  \n",
      "[1] \"The connected component is too large (>8 nodes) in order to be extended to all DAGs in a reasonable amount of time. We thus consider local expansions of the graph (some combinations of which may lead to cycles).\"\n",
      "[1] \"The connected component is too large (>8 nodes) in order to be extended to all DAGs in a reasonable amount of time. We thus consider local expansions of the graph (some combinations of which may lead to cycles).\"\n",
      "   i_dataset  shd_w sid_w  fn_w  fp_w  rev_w  shd_a sid_a  fn_a  fp_a  rev_a  \\\n",
      "0          3   52.0  90.0   1.0  51.0    0.0   16.0  None   0.0  16.0    0.0   \n",
      "\n",
      "   shd_wa sid_wa  fn_wa  fp_wa  rev_wa  \n",
      "0    68.0  136.0    1.0   67.0     0.0  \n",
      "[1] \"The estimated graph is not chordal, i.e. it is not a CPDAG! We thus consider local expansions of the graph (some combinations of which may lead to cycles).\"\n",
      "[1] \"The connected component is too large (>8 nodes) in order to be extended to all DAGs in a reasonable amount of time. We thus consider local expansions of the graph (some combinations of which may lead to cycles).\"\n",
      "[1] \"The estimated graph is not chordal, i.e. it is not a CPDAG! We thus consider local expansions of the graph (some combinations of which may lead to cycles).\"\n",
      "[1] \"The connected component is too large (>8 nodes) in order to be extended to all DAGs in a reasonable amount of time. We thus consider local expansions of the graph (some combinations of which may lead to cycles).\"\n",
      "   i_dataset  shd_w sid_w  fn_w  fp_w  rev_w  shd_a sid_a  fn_a  fp_a  rev_a  \\\n",
      "0          4   20.0  34.0   1.0  19.0    0.0   16.0  None   0.0  16.0    0.0   \n",
      "\n",
      "   shd_wa sid_wa  fn_wa  fp_wa  rev_wa  \n",
      "0    36.0   94.0    1.0   35.0     0.0  \n",
      "[1] \"The connected component is too large (>8 nodes) in order to be extended to all DAGs in a reasonable amount of time. We thus consider local expansions of the graph (some combinations of which may lead to cycles).\"\n",
      "[1] \"The connected component is too large (>8 nodes) in order to be extended to all DAGs in a reasonable amount of time. We thus consider local expansions of the graph (some combinations of which may lead to cycles).\"\n",
      "   i_dataset  shd_w sid_w  fn_w  fp_w  rev_w  shd_a sid_a  fn_a  fp_a  rev_a  \\\n",
      "0          5   32.0  90.0   0.0  32.0    0.0   23.0  None   0.0  23.0    0.0   \n",
      "\n",
      "   shd_wa sid_wa  fn_wa  fp_wa  rev_wa  \n",
      "0    55.0  138.0    0.0   55.0     0.0  \n",
      "[1] \"The connected component is too large (>8 nodes) in order to be extended to all DAGs in a reasonable amount of time. We thus consider local expansions of the graph (some combinations of which may lead to cycles).\"\n",
      "[1] \"The connected component is too large (>8 nodes) in order to be extended to all DAGs in a reasonable amount of time. We thus consider local expansions of the graph (some combinations of which may lead to cycles).\"\n",
      "   i_dataset  shd_w sid_w  fn_w  fp_w  rev_w  shd_a sid_a  fn_a  fp_a  rev_a  \\\n",
      "0          6   48.0  90.0   1.0  47.0    0.0   28.0  None   1.0  27.0    0.0   \n",
      "\n",
      "   shd_wa sid_wa  fn_wa  fp_wa  rev_wa  \n",
      "0    76.0  139.0    2.0   74.0     0.0  \n",
      "[1] \"The connected component is too large (>8 nodes) in order to be extended to all DAGs in a reasonable amount of time. We thus consider local expansions of the graph (some combinations of which may lead to cycles).\"\n",
      "[1] \"The connected component is too large (>8 nodes) in order to be extended to all DAGs in a reasonable amount of time. We thus consider local expansions of the graph (some combinations of which may lead to cycles).\"\n",
      "   i_dataset  shd_w sid_w  fn_w  fp_w  rev_w  shd_a sid_a  fn_a  fp_a  rev_a  \\\n",
      "0          7   44.0  72.0   0.0  44.0    0.0   22.0  None   1.0  21.0    0.0   \n",
      "\n",
      "   shd_wa sid_wa  fn_wa  fp_wa  rev_wa  \n",
      "0    66.0  109.0    1.0   65.0     0.0  \n",
      "[1] \"The estimated graph is not chordal, i.e. it is not a CPDAG! We thus consider local expansions of the graph (some combinations of which may lead to cycles).\"\n",
      "[1] \"The connected component is too large (>8 nodes) in order to be extended to all DAGs in a reasonable amount of time. We thus consider local expansions of the graph (some combinations of which may lead to cycles).\"\n",
      "[1] \"The estimated graph is not chordal, i.e. it is not a CPDAG! We thus consider local expansions of the graph (some combinations of which may lead to cycles).\"\n",
      "[1] \"The connected component is too large (>8 nodes) in order to be extended to all DAGs in a reasonable amount of time. We thus consider local expansions of the graph (some combinations of which may lead to cycles).\"\n",
      "   i_dataset  shd_w sid_w  fn_w  fp_w  rev_w  shd_a sid_a  fn_a  fp_a  rev_a  \\\n",
      "0          8   48.0  90.0   0.0  48.0    0.0   29.0  None   2.0  27.0    0.0   \n",
      "\n",
      "   shd_wa sid_wa  fn_wa  fp_wa  rev_wa  \n",
      "0    77.0  133.0    2.0   75.0     0.0  \n",
      "[1] \"The estimated graph is not chordal, i.e. it is not a CPDAG! We thus consider local expansions of the graph (some combinations of which may lead to cycles).\"\n",
      "[1] \"The connected component is too large (>8 nodes) in order to be extended to all DAGs in a reasonable amount of time. We thus consider local expansions of the graph (some combinations of which may lead to cycles).\"\n",
      "[1] \"The estimated graph is not chordal, i.e. it is not a CPDAG! We thus consider local expansions of the graph (some combinations of which may lead to cycles).\"\n",
      "[1] \"The connected component is too large (>8 nodes) in order to be extended to all DAGs in a reasonable amount of time. We thus consider local expansions of the graph (some combinations of which may lead to cycles).\"\n",
      "   i_dataset  shd_w sid_w  fn_w  fp_w  rev_w  shd_a sid_a  fn_a  fp_a  rev_a  \\\n",
      "0          9   38.0  86.0   1.0  37.0    0.0   19.0  None   0.0  19.0    0.0   \n",
      "\n",
      "   shd_wa sid_wa  fn_wa  fp_wa  rev_wa  \n",
      "0    57.0  143.0    1.0   56.0     0.0  \n",
      "[1] \"The connected component is too large (>8 nodes) in order to be extended to all DAGs in a reasonable amount of time. We thus consider local expansions of the graph (some combinations of which may lead to cycles).\"\n",
      "[1] \"The connected component is too large (>8 nodes) in order to be extended to all DAGs in a reasonable amount of time. We thus consider local expansions of the graph (some combinations of which may lead to cycles).\"\n",
      "   i_dataset  shd_w sid_w  fn_w  fp_w  rev_w  shd_a sid_a  fn_a  fp_a  rev_a  \\\n",
      "0         10   46.0  72.0   0.0  46.0    0.0   44.0  None   1.0  43.0    0.0   \n",
      "\n",
      "   shd_wa sid_wa  fn_wa  fp_wa  rev_wa  \n",
      "0    90.0   88.0    1.0   89.0     0.0  \n"
     ]
    }
   ],
   "source": [
    "for i_dataset in range(1,11):\n",
    "    dag_est = np.load(f'PCMCI_est{i_dataset}.npy')\n",
    "    true_dag = np.load(f'/home/lipeiwen.lpw/TECDI/data_simu/10_p1_smp5500/DAG{i_dataset}.npy')\n",
    "    # w_est = dag_est[:num_nodes,:num_nodes]\n",
    "    # a_est = dag_est[num_nodes:,:num_nodes]\n",
    "    save_results(i_dataset=i_dataset,num_nodes = 10, wa=dag_est,true_dag=true_dag)"
   ]
  },
  {
   "cell_type": "code",
   "execution_count": 4,
   "metadata": {},
   "outputs": [
    {
     "name": "stdout",
     "output_type": "stream",
     "text": [
      "shd_wa: 62.0 \\pm 17.15\n",
      "shd_w: 38.1 \\pm 11.16\n",
      "shd_a: 23.9 \\pm 9.53\n",
      "sid_wa: 118.3 \\pm 24.08\n"
     ]
    }
   ],
   "source": [
    "import statistics\n",
    "res = pd.read_csv('10_p1_smp5500_pcmci_results.csv')\n",
    "shd_wa = res['shd_wa'][1:]\n",
    "shd_w = res['shd_w'][1:]\n",
    "shd_a = res['shd_a'][1:]\n",
    "sid_wa = res['sid_wa'][1:]\n",
    "print('shd_wa:',round(np.mean(shd_wa),2),'\\pm',round(statistics.stdev(shd_wa),2))\n",
    "print('shd_w:',round(np.mean(shd_w),2),'\\pm',round(statistics.stdev(shd_w),2))\n",
    "print('shd_a:',round(np.mean(shd_a),2),'\\pm',round(statistics.stdev(shd_a),2))\n",
    "print('sid_wa:',round(np.mean(sid_wa),2),'\\pm',round(statistics.stdev(sid_wa),2))"
   ]
  }
 ],
 "metadata": {
  "kernelspec": {
   "display_name": "torch310r",
   "language": "python",
   "name": "python3"
  },
  "language_info": {
   "codemirror_mode": {
    "name": "ipython",
    "version": 3
   },
   "file_extension": ".py",
   "mimetype": "text/x-python",
   "name": "python",
   "nbconvert_exporter": "python",
   "pygments_lexer": "ipython3",
   "version": "3.10.11"
  },
  "orig_nbformat": 4
 },
 "nbformat": 4,
 "nbformat_minor": 2
}
