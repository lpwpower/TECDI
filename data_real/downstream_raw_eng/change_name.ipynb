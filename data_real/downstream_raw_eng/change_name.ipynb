{
 "cells": [
  {
   "cell_type": "code",
   "execution_count": 1,
   "metadata": {},
   "outputs": [],
   "source": [
    "import numpy as np\n",
    "import pandas as pd\n",
    "import os"
   ]
  },
  {
   "cell_type": "code",
   "execution_count": 2,
   "metadata": {},
   "outputs": [],
   "source": [
    "filelist = os.listdir('./abnormal')\n",
    "\n",
    "air_cmdb_dict = {}\n",
    "cold_cmdb_dict = {}\n",
    "new_col = []\n",
    "\n",
    "# 用第一个文件生成 name_map (因为所有的文件需要共用同一个name_map)\n",
    "for file in filelist:\n",
    "    filename = str(file)\n",
    "    if filename[len(filename)-10:] == '_train.csv':\n",
    "        traindata = pd.read_csv('./abnormal/'+filename)\n",
    "        \n",
    "        air_id = 0\n",
    "        cold_id = 0\n",
    "        for col in traindata.columns[1:]:\n",
    "            cmdbid, point_name = col.split('_')\n",
    "            if point_name == '送风温度001':\n",
    "                new_point_name = 'supply_temperature'         # 改测点名称\n",
    "                if cmdbid in air_cmdb_dict:                   # 改测点cmdbid\n",
    "                    new_id = f'air{air_cmdb_dict[cmdbid]}'\n",
    "                else:\n",
    "                    new_id = f'air{air_id+1}' \n",
    "                    air_id += 1\n",
    "                \n",
    "            elif point_name == '冷通道温度':\n",
    "                new_point_name = 'coldaisle_temprature'\n",
    "                if cmdbid in cold_cmdb_dict:\n",
    "                    new_id = f'coldaisle{cold_cmdb_dict[cmdbid]}'\n",
    "                else:\n",
    "                    new_id = f'coldaisle{cold_id+1}'\n",
    "                    cold_id += 1\n",
    "                new_point_name = 'temperature'\n",
    "            \n",
    "            new_col.append(new_id + '_' + new_point_name)\n",
    "                \n",
    "        break"
   ]
  },
  {
   "cell_type": "code",
   "execution_count": 3,
   "metadata": {},
   "outputs": [
    {
     "data": {
      "text/plain": [
       "{'2149051_送风温度001': 'air1_supply_temperature',\n",
       " '2149052_送风温度001': 'air2_supply_temperature',\n",
       " '2149053_送风温度001': 'air3_supply_temperature',\n",
       " '2149054_送风温度001': 'air4_supply_temperature',\n",
       " '2149055_送风温度001': 'air5_supply_temperature',\n",
       " '2149056_送风温度001': 'air6_supply_temperature',\n",
       " '2149057_送风温度001': 'air7_supply_temperature',\n",
       " '2149058_送风温度001': 'air8_supply_temperature',\n",
       " '2149059_送风温度001': 'air9_supply_temperature',\n",
       " '2149060_送风温度001': 'air10_supply_temperature',\n",
       " '2149061_送风温度001': 'air11_supply_temperature',\n",
       " '2149062_送风温度001': 'air12_supply_temperature',\n",
       " '2149063_送风温度001': 'air13_supply_temperature',\n",
       " '2149064_送风温度001': 'air14_supply_temperature',\n",
       " '2149065_送风温度001': 'air15_supply_temperature',\n",
       " '2149066_送风温度001': 'air16_supply_temperature',\n",
       " '2149067_送风温度001': 'air17_supply_temperature',\n",
       " '2149068_送风温度001': 'air18_supply_temperature',\n",
       " '2149069_送风温度001': 'air19_supply_temperature',\n",
       " '2149070_送风温度001': 'air20_supply_temperature',\n",
       " '2157521_冷通道温度': 'coldaisle1_temperature',\n",
       " '2157522_冷通道温度': 'coldaisle2_temperature',\n",
       " '2157523_冷通道温度': 'coldaisle3_temperature',\n",
       " '2157524_冷通道温度': 'coldaisle4_temperature',\n",
       " '2157525_冷通道温度': 'coldaisle5_temperature',\n",
       " '2157526_冷通道温度': 'coldaisle6_temperature',\n",
       " '2157527_冷通道温度': 'coldaisle7_temperature',\n",
       " '2157528_冷通道温度': 'coldaisle8_temperature',\n",
       " '2157529_冷通道温度': 'coldaisle9_temperature',\n",
       " '2157530_冷通道温度': 'coldaisle10_temperature',\n",
       " '2157531_冷通道温度': 'coldaisle11_temperature',\n",
       " '2157532_冷通道温度': 'coldaisle12_temperature',\n",
       " '2157533_冷通道温度': 'coldaisle13_temperature',\n",
       " '2157534_冷通道温度': 'coldaisle14_temperature',\n",
       " '2157535_冷通道温度': 'coldaisle15_temperature',\n",
       " '2157536_冷通道温度': 'coldaisle16_temperature',\n",
       " '2157537_冷通道温度': 'coldaisle17_temperature',\n",
       " '2157538_冷通道温度': 'coldaisle18_temperature'}"
      ]
     },
     "execution_count": 3,
     "metadata": {},
     "output_type": "execute_result"
    }
   ],
   "source": [
    "# 映射到map\n",
    "name_map = dict(zip(traindata.columns[1:], new_col))\n",
    "name_map"
   ]
  },
  {
   "cell_type": "code",
   "execution_count": 7,
   "metadata": {},
   "outputs": [],
   "source": [
    "# 对于 _train.csv, 根据name_map, 改字段名\n",
    "\n",
    "# 改 abnormal\n",
    "filelist = os.listdir('./abnormal')\n",
    "for file in filelist:\n",
    "    filename = str(file)\n",
    "    \n",
    "    if 'train' in filename:\n",
    "        traindata = pd.read_csv('./abnormal/'+filename)\n",
    "        traindata = traindata.rename(columns=name_map)\n",
    "        traindata.to_csv('./abnormal/'+filename, index=None)\n",
    "\n",
    "# 改normal\n",
    "filelist = os.listdir('./normal')\n",
    "for file in filelist:\n",
    "    filename = str(file)\n",
    "    \n",
    "    if 'train' in filename:\n",
    "        traindata = pd.read_csv('./normal/'+filename)\n",
    "        traindata = traindata.rename(columns=name_map)\n",
    "        traindata.to_csv('./normal/'+filename, index=None)"
   ]
  },
  {
   "cell_type": "code",
   "execution_count": 22,
   "metadata": {},
   "outputs": [],
   "source": [
    "# 对于 _label.csv, 根据name_map, 改字段名\n",
    "\n",
    "# 改 abnormal\n",
    "filelist = os.listdir('./abnormal')\n",
    "for file in filelist:\n",
    "    filename = str(file)\n",
    "    \n",
    "    if 'label' in filename:\n",
    "        traindata = pd.read_csv('./abnormal/'+filename)\n",
    "        traindata['0'] = traindata['0'].map(name_map)\n",
    "        traindata.to_csv('./abnormal/'+filename, index=None)\n"
   ]
  },
  {
   "cell_type": "code",
   "execution_count": null,
   "metadata": {},
   "outputs": [],
   "source": []
  }
 ],
 "metadata": {
  "kernelspec": {
   "display_name": "Python 3 (ipykernel)",
   "language": "python",
   "name": "python3"
  },
  "language_info": {
   "codemirror_mode": {
    "name": "ipython",
    "version": 3
   },
   "file_extension": ".py",
   "mimetype": "text/x-python",
   "name": "python",
   "nbconvert_exporter": "python",
   "pygments_lexer": "ipython3",
   "version": "3.7.13"
  }
 },
 "nbformat": 4,
 "nbformat_minor": 4
}
