{
 "cells": [
  {
   "cell_type": "code",
   "execution_count": 15,
   "metadata": {},
   "outputs": [],
   "source": [
    "import numpy as np\n",
    "import pandas as pd\n",
    "import os\n",
    "\n",
    "filelist = os.listdir('../downstream/abnormal/')\n",
    "for file in filelist:\n",
    "    filename = str(file)\n",
    "    # init_order = filename[:len(filename)-10]\n",
    "    if filename[len(filename)-10:] == '_train.csv':\n",
    "        traindata = pd.read_csv('../downstream/abnormal/'+filename)\n",
    "        flag = traindata.columns.str.contains('风机转速')\n",
    "        colname = traindata.columns\n",
    "        for i in range(traindata.shape[1]):\n",
    "            if flag[i] == True:\n",
    "                traindata.drop(colname[i],axis=1,inplace=True)\n",
    "        traindata.to_csv('abnormal/'+filename,index=False)\n",
    "\n",
    "filelist = os.listdir('../downstream/normal/')\n",
    "for file in filelist:\n",
    "    filename = str(file)\n",
    "    if filename[len(filename)-4:] == '.csv':\n",
    "        traindata = pd.read_csv('../downstream/normal/'+filename)\n",
    "        flag = traindata.columns.str.contains('风机转速')\n",
    "        colname = traindata.columns\n",
    "        for i in range(traindata.shape[1]):\n",
    "            if flag[i] == True:\n",
    "                traindata.drop(colname[i],axis=1,inplace=True)\n",
    "        traindata.to_csv('normal/'+filename,index=False)"
   ]
  }
 ],
 "metadata": {
  "kernelspec": {
   "display_name": "torch310r",
   "language": "python",
   "name": "python3"
  },
  "language_info": {
   "codemirror_mode": {
    "name": "ipython",
    "version": 3
   },
   "file_extension": ".py",
   "mimetype": "text/x-python",
   "name": "python",
   "nbconvert_exporter": "python",
   "pygments_lexer": "ipython3",
   "version": "3.10.11"
  },
  "orig_nbformat": 4
 },
 "nbformat": 4,
 "nbformat_minor": 2
}
